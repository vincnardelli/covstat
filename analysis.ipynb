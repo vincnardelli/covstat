{
  "nbformat": 4,
  "nbformat_minor": 0,
  "metadata": {
    "colab": {
      "name": "analysis.ipynb",
      "provenance": [],
      "authorship_tag": "ABX9TyM86ddCc8Z93NkotTUrpH3I",
      "include_colab_link": true
    },
    "kernelspec": {
      "name": "python3",
      "display_name": "Python 3"
    }
  },
  "cells": [
    {
      "cell_type": "markdown",
      "metadata": {
        "id": "view-in-github",
        "colab_type": "text"
      },
      "source": [
        "<a href=\"https://colab.research.google.com/github/vincnardelli/covstat/blob/master/analysis.ipynb\" target=\"_parent\"><img src=\"https://colab.research.google.com/assets/colab-badge.svg\" alt=\"Open In Colab\"/></a>"
      ]
    },
    {
      "cell_type": "code",
      "metadata": {
        "id": "9WYErGyShWAf"
      },
      "source": [
        "import numpy as np\n",
        "import pandas as pd\n",
        "\n",
        "# dati cumulativi\n",
        " \n",
        "data = pd.read_csv('https://github.com/pcm-dpc/COVID-19/raw/master/dati-andamento-nazionale/dpc-covid19-ita-andamento-nazionale.csv')\n",
        "xdata=pd.to_numeric(range(data.shape[0]))\n",
        "ydata=data['totale_casi']\n",
        "ydata_death=data['deceduti']\n",
        "ydata_rec=data['dimessi_guariti']\n",
        "ydata_tamponi=data['tamponi']\n",
        "ydata_ospedale=np.array(data['totale_ospedalizzati'])\n",
        "ydata_ricoverati=np.array(data['ricoverati_con_sintomi'])\n",
        " \n",
        "ydata_death=np.array(ydata_death)\n",
        "ydata_rec=np.array(ydata_rec)\n",
        "ydata=np.array(ydata)\n",
        " \n",
        "ydata_inf=np.array(ydata-ydata_rec-ydata_death)\n",
        " \n",
        "ydata_terint=np.array(data['terapia_intensiva'])"
      ],
      "execution_count": 1,
      "outputs": []
    },
    {
      "cell_type": "code",
      "metadata": {
        "id": "T7tNDM3Hhe9u"
      },
      "source": [
        "\n",
        "def moving_avg(array,window=7):\n",
        "    '''This function computes the moving average, given a time window'''\n",
        "    array_mobile = []\n",
        "    for i in range(len(array)-window+1):\n",
        "        mean_parz = np.mean(array[i:i+window])\n",
        "        array_mobile.append(mean_parz)\n",
        "        \n",
        "    return np.array(array_mobile)\n",
        "\n",
        "\n",
        "def lin_func(t,coeff):\n",
        "  '''This function takes the coefficient from polyfit'''\n",
        "  return coeff[1]+t*coeff[0]\n",
        "\n",
        "ymorti=np.diff(ydata_death)\n",
        "#ymorti[172]=ymorti[172]-154   # ricalcolo morti Emilia-Romagna\n",
        "ymorti=np.append([0,0,0,0,0,0,0],ymorti)\n",
        " \n",
        "ydata_morti = moving_avg(ymorti)\n",
        "\n",
        "kk1=round(ydata_ospedale[-1]/np.max(ydata_ospedale),3)\n",
        "kk2=round(ydata_terint[-1]/np.max(ydata_terint),3)\n",
        "kk3=round(ydata_morti[-1]/np.max(ydata_morti),3)\n",
        "\n",
        "df1 = {'indicatori':['Ricoverati', 'In terapia intensiva', 'Decessi giornalieri'], \n",
        "      'Percentuale': [kk1, kk2, kk3], \n",
        "      'attuali': [int(ydata_ospedale[-1]), int(ydata_terint[-1]), int(ydata_morti[-1])], \n",
        "      'picco': [int(np.max(ydata_ospedale)), int(np.max(ydata_terint)), int(np.max(ydata_morti))]}\n",
        "df1 = pd.DataFrame(df1)\n",
        "df1.to_csv('confronto.csv', index=False)\n",
        "\n",
        "\n",
        "df2 = {'Data': range(0, len(ydata)), \n",
        "       'Ricoverati in ospedale / 8': ydata_ospedale/8, \n",
        "      'Terapia intensiva': ydata_terint, \n",
        "      'Deceduti x 5': ydata_morti*5}\n",
        "\n",
        "df2 = pd.DataFrame(df2)\n",
        "df2.to_csv('serie.csv', index=False)"
      ],
      "execution_count": 2,
      "outputs": []
    },
    {
      "cell_type": "code",
      "metadata": {
        "id": "-iyLzf6Fhj87"
      },
      "source": [
        ""
      ],
      "execution_count": null,
      "outputs": []
    }
  ]
}