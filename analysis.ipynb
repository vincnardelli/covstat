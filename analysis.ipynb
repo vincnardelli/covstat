{
  "nbformat": 4,
  "nbformat_minor": 0,
  "metadata": {
    "colab": {
      "name": "analysis.ipynb",
      "provenance": [],
      "collapsed_sections": [],
      "authorship_tag": "ABX9TyOlBH5xbkXM7t3/ip6wAc6N",
      "include_colab_link": true
    },
    "kernelspec": {
      "name": "python3",
      "display_name": "Python 3"
    }
  },
  "cells": [
    {
      "cell_type": "markdown",
      "metadata": {
        "id": "view-in-github",
        "colab_type": "text"
      },
      "source": [
        "<a href=\"https://colab.research.google.com/github/vincnardelli/covstat/blob/master/analysis.ipynb\" target=\"_parent\"><img src=\"https://colab.research.google.com/assets/colab-badge.svg\" alt=\"Open In Colab\"/></a>"
      ]
    },
    {
      "cell_type": "code",
      "metadata": {
        "id": "9WYErGyShWAf"
      },
      "source": [
        "import numpy as np\n",
        "import pandas as pd\n",
        "\n",
        "# dati cumulativi\n",
        " \n",
        "data = pd.read_csv('https://github.com/pcm-dpc/COVID-19/raw/master/dati-andamento-nazionale/dpc-covid19-ita-andamento-nazionale.csv')\n",
        "xdata=pd.to_numeric(range(data.shape[0]))\n",
        "ydata=data['totale_casi']\n",
        "ydata_death=data['deceduti']\n",
        "ydata_rec=data['dimessi_guariti']\n",
        "ydata_tamponi=data['tamponi']\n",
        "ydata_ospedale=np.array(data['totale_ospedalizzati'])\n",
        "ydata_ricoverati=np.array(data['ricoverati_con_sintomi'])\n",
        " \n",
        "ydata_death=np.array(ydata_death)\n",
        "ydata_rec=np.array(ydata_rec)\n",
        "ydata=np.array(ydata)\n",
        " \n",
        "ydata_inf=np.array(ydata-ydata_rec-ydata_death)\n",
        " \n",
        "ydata_terint=np.array(data['terapia_intensiva'])"
      ],
      "execution_count": 1,
      "outputs": []
    },
    {
      "cell_type": "code",
      "metadata": {
        "id": "T7tNDM3Hhe9u"
      },
      "source": [
        "\n",
        "def moving_avg(array,window=7):\n",
        "    '''This function computes the moving average, given a time window'''\n",
        "    array_mobile = []\n",
        "    for i in range(len(array)-window+1):\n",
        "        mean_parz = np.mean(array[i:i+window])\n",
        "        array_mobile.append(mean_parz)\n",
        "        \n",
        "    return np.array(array_mobile)\n",
        "\n",
        "\n",
        "def lin_func(t,coeff):\n",
        "  '''This function takes the coefficient from polyfit'''\n",
        "  return coeff[1]+t*coeff[0]\n",
        "\n",
        "ymorti=np.diff(ydata_death)\n",
        "#ymorti[172]=ymorti[172]-154   # ricalcolo morti Emilia-Romagna\n",
        "ymorti=np.append([0,0,0,0,0,0,0],ymorti)\n",
        " \n",
        "ydata_morti = moving_avg(ymorti)\n",
        "\n",
        "kk1=round(ydata_ospedale[-1]/np.max(ydata_ospedale),3)\n",
        "kk2=round(ydata_terint[-1]/np.max(ydata_terint),3)\n",
        "kk3=round(ydata_morti[-1]/np.max(ydata_morti),3)\n",
        "\n",
        "df1 = {'indicatori':['Ricoverati', 'In terapia intensiva', 'Decessi giornalieri'], \n",
        "      'Percentuale': [kk1, kk2, kk3], \n",
        "      'attuali': [int(ydata_ospedale[-1]), int(ydata_terint[-1]), int(ydata_morti[-1])], \n",
        "      'picco': [int(np.max(ydata_ospedale)), int(np.max(ydata_terint)), int(np.max(ydata_morti))]}\n",
        "df1 = pd.DataFrame(df1)\n",
        "df1.to_csv('confronto.csv', index=False)\n",
        "\n",
        "\n",
        "df2 = {'Data': range(0, len(ydata)), \n",
        "       'Ricoverati in ospedale / 8': ydata_ospedale/8, \n",
        "      'Terapia intensiva': ydata_terint, \n",
        "      'Deceduti x 5': ydata_morti*5}\n",
        "\n",
        "df2 = pd.DataFrame(df2)\n",
        "df2.to_csv('serie.csv', index=False)"
      ],
      "execution_count": 2,
      "outputs": []
    },
    {
      "cell_type": "markdown",
      "metadata": {
        "id": "v7k5CjigmDK3"
      },
      "source": [
        "Regioni"
      ]
    },
    {
      "cell_type": "code",
      "metadata": {
        "id": "EGmUT6f0oMxM"
      },
      "source": [
        "nomiregioni       = np.array(['Abruzzo','Basilicata','P.A. Bolzano','Calabria','Campania','Emilia-Romagna',\n",
        "                              'Friuli Venezia Giulia','Lazio','Liguria','Lombardia','Marche','Molise','Piemonte',\n",
        "                              'Puglia','Sardegna','Sicilia','Toscana','P.A. Trento','Umbria','Valle d\\'Aosta','Veneto'])\n",
        "\n",
        "\n",
        "\n",
        "pop_regioni   =  np.array([1304970, 559084,533050, 1947131, 5801692, 4459477, 1215220, 5879082, 1550640, 10060574, 1525271, 305617, 4356406, 4029053, 1639591, 4999891, 3729641,541380, 882015, 125666, 4905854])\n",
        "\n",
        "\n",
        "df_popregioni=pd.DataFrame(pop_regioni)\n",
        "df_popregioni.index=nomiregioni\n",
        "df_popregioni.columns=['Popolazione']\n"
      ],
      "execution_count": 3,
      "outputs": []
    },
    {
      "cell_type": "code",
      "metadata": {
        "id": "-iyLzf6Fhj87"
      },
      "source": [
        "data_reg2 = pd.read_csv('https://raw.githubusercontent.com/pcm-dpc/COVID-19/master/dati-regioni/dpc-covid19-ita-regioni.csv')\n",
        "\n",
        "# crea la funzione per confrontare i picchi\n",
        "\n",
        "def regione_picco(nome_regione):\n",
        "  mask = data_reg2['denominazione_regione']==nome_regione\n",
        "  data_reg =data_reg2.loc[mask,:]\n",
        "  xdatetime=np.array(data_reg['data'])\n",
        "\n",
        "  xdata_reg=pd.to_numeric(range(data_reg.shape[0]))\n",
        "  ydata_terint_reg=np.array(data_reg['terapia_intensiva'])\n",
        "  ydata_ospedale_reg=np.array(data_reg['totale_ospedalizzati'])\n",
        "\n",
        "  osp_oggi = ydata_ospedale_reg[-1]\n",
        "  osp_max  = np.max(ydata_ospedale_reg[0:180])\n",
        "  osp_fracpicco = round(osp_oggi/osp_max*100,1)\n",
        "  osp_datamax = xdatetime[np.argmax(ydata_ospedale_reg)]\n",
        "\n",
        "\n",
        "  ter_oggi = ydata_terint_reg[-1]\n",
        "  ter_max  = np.max(ydata_terint_reg[0:180])\n",
        "  ter_fracpicco = round(ter_oggi/ter_max*100,1)\n",
        "  ter_datamax = xdatetime[np.argmax(ydata_terint_reg)]\n",
        "\n",
        "  ter_popolazione = round(ter_oggi/df_popregioni.loc[nome_regione,'Popolazione']*10**6,2)\n",
        "\n",
        "  return [nome_regione,osp_oggi,osp_max,osp_datamax,osp_fracpicco,ter_oggi,ter_max,ter_datamax,ter_fracpicco,ter_popolazione]"
      ],
      "execution_count": 4,
      "outputs": []
    },
    {
      "cell_type": "code",
      "metadata": {
        "id": "mm3xkGQ3mFDY"
      },
      "source": [
        "# crea il dataframe e lo esporta\n",
        "\n",
        "# lista regioni da Nord a Sud\n",
        "lista_regioni = np.array(['Valle d\\'Aosta','Liguria','Piemonte','Lombardia','Veneto','Friuli Venezia Giulia','P.A. Bolzano','P.A. Trento',\n",
        "                          'Emilia-Romagna','Toscana','Marche','Umbria','Abruzzo','Lazio',\n",
        "                          'Molise','Campania','Puglia','Basilicata','Calabria','Sicilia','Sardegna'])\n",
        "\n",
        "piccopicco_reg = []\n",
        "\n",
        "for nomereg in lista_regioni:\n",
        "  piccopicco_reg.append(regione_picco(nomereg))\n",
        "\n",
        "piccopicco_reg = pd.DataFrame(piccopicco_reg)\n",
        "\n",
        "piccopicco_reg.columns=['Nome regione','Ospedalizzati attuali','Ospedalizzati al picco','Data picco osp.','Frazione osp. picco',\n",
        "                        'Terapia intensiva oggi','Terapia intensiva picco','Data picco terint.','Frazione terint. picco','Terint/popolazione']\n",
        "\n",
        "piccopicco_reg['Data picco osp.'] = pd.to_datetime(piccopicco_reg['Data picco osp.']).dt.strftime('%d/%m/%Y')\n",
        "piccopicco_reg['Data picco terint.'] = pd.to_datetime(piccopicco_reg['Data picco terint.']).dt.strftime('%d/%m/%Y')\n",
        "\n",
        "\n",
        "piccopicco_reg.to_csv('regioni.csv',index=False)"
      ],
      "execution_count": 14,
      "outputs": []
    }
  ]
}